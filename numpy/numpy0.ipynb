{
 "cells": [
  {
   "cell_type": "code",
   "execution_count": 1,
   "metadata": {},
   "outputs": [],
   "source": [
    "import numpy as np"
   ]
  },
  {
   "cell_type": "code",
   "execution_count": 2,
   "metadata": {},
   "outputs": [
    {
     "name": "stdout",
     "output_type": "stream",
     "text": [
      "[1 2 3 4 5]\n",
      "<class 'numpy.ndarray'>\n"
     ]
    }
   ],
   "source": [
    "# Create a ndarray with tuple\n",
    "arr = np.array((1,2,3,4,5))\n",
    "print(arr)\n",
    "print(type(arr))"
   ]
  },
  {
   "cell_type": "code",
   "execution_count": 3,
   "metadata": {},
   "outputs": [
    {
     "name": "stdout",
     "output_type": "stream",
     "text": [
      "[[[2 3 4]\n",
      "  [2 3 4]]\n",
      "\n",
      " [[2 3 4]\n",
      "  [3 3 2]]]\n",
      "3\n"
     ]
    }
   ],
   "source": [
    "# Create a 3D array\n",
    "arr = np.array([[[2,3,4],[2,3,4]],[[2,3,4],[3,3,2]]])\n",
    "print(arr)\n",
    "print(arr.ndim)"
   ]
  },
  {
   "cell_type": "code",
   "execution_count": 4,
   "metadata": {},
   "outputs": [
    {
     "name": "stdout",
     "output_type": "stream",
     "text": [
      "[[[[[1 2 3 4 5]]]]]\n",
      "Number of dimentional: 5\n"
     ]
    }
   ],
   "source": [
    "arr = np.array([1,2,3,4,5],ndmin = 5)\n",
    "print(arr)\n",
    "print(\"Number of dimentional:\",arr.ndim)"
   ]
  },
  {
   "cell_type": "markdown",
   "metadata": {},
   "source": [
    "# Indexing \n",
    "*Accessing the data of list*"
   ]
  },
  {
   "cell_type": "code",
   "execution_count": 5,
   "metadata": {},
   "outputs": [
    {
     "name": "stdout",
     "output_type": "stream",
     "text": [
      "3\n"
     ]
    }
   ],
   "source": [
    "# 1D array\n",
    "arr = np.array([1,2,3,4])\n",
    "print(arr[2])"
   ]
  },
  {
   "cell_type": "code",
   "execution_count": 6,
   "metadata": {},
   "outputs": [
    {
     "name": "stdout",
     "output_type": "stream",
     "text": [
      "3\n"
     ]
    }
   ],
   "source": [
    "# Accessing data from 2D array\n",
    "arr = np.array([[1,2,3,],\n",
    "                [3,4,5]])\n",
    "print(arr[0,2])"
   ]
  },
  {
   "cell_type": "code",
   "execution_count": 7,
   "metadata": {},
   "outputs": [
    {
     "name": "stdout",
     "output_type": "stream",
     "text": [
      "[[[2 3 4]\n",
      "  [3 3 2]]\n",
      "\n",
      " [[2 3 4]\n",
      "  [3 4 4]]]\n",
      "3\n"
     ]
    }
   ],
   "source": [
    "# Accessing data from 3D array\n",
    "arr = np.array([[[2,3,4],\n",
    "                 [3,3,2]],\n",
    "                 [[2,3,4],\n",
    "                  [3,4,4]]])\n",
    "print(arr)\n",
    "print(arr[0,1,1])"
   ]
  },
  {
   "cell_type": "markdown",
   "metadata": {},
   "source": [
    "# negative Indexing"
   ]
  },
  {
   "cell_type": "code",
   "execution_count": 8,
   "metadata": {},
   "outputs": [
    {
     "name": "stdout",
     "output_type": "stream",
     "text": [
      "[[1 2 3 4]\n",
      " [8 6 5 4]]\n",
      "2\n"
     ]
    }
   ],
   "source": [
    "arr = np.array([[1,2,3,4],\n",
    "                [8,6,5,4]])\n",
    "print(arr)\n",
    "print(arr[0,-3])"
   ]
  },
  {
   "cell_type": "markdown",
   "metadata": {},
   "source": [
    "# Slicing \n",
    "*numpy array Slicing*"
   ]
  },
  {
   "cell_type": "code",
   "execution_count": 9,
   "metadata": {},
   "outputs": [
    {
     "name": "stdout",
     "output_type": "stream",
     "text": [
      "[3 4 5 6 7]\n"
     ]
    }
   ],
   "source": [
    "arr = np.array([2,3,4,5,6,7,7])\n",
    "print(arr[1:6])"
   ]
  },
  {
   "cell_type": "code",
   "execution_count": 10,
   "metadata": {},
   "outputs": [
    {
     "name": "stdout",
     "output_type": "stream",
     "text": [
      "[6 7 7]\n"
     ]
    }
   ],
   "source": [
    "print(arr[4:])"
   ]
  },
  {
   "cell_type": "code",
   "execution_count": 11,
   "metadata": {},
   "outputs": [
    {
     "name": "stdout",
     "output_type": "stream",
     "text": [
      "[6 7]\n"
     ]
    }
   ],
   "source": [
    "# Negative Slicing\n",
    "print(arr[-3:-1])"
   ]
  },
  {
   "cell_type": "code",
   "execution_count": 12,
   "metadata": {},
   "outputs": [
    {
     "name": "stdout",
     "output_type": "stream",
     "text": [
      "[2 4 6 7]\n",
      "[2 3 4 5 6 7 7]\n"
     ]
    }
   ],
   "source": [
    "print(arr[::2])\n",
    "print(arr)"
   ]
  },
  {
   "cell_type": "markdown",
   "metadata": {},
   "source": [
    "*Slicing 2D array*"
   ]
  },
  {
   "cell_type": "code",
   "execution_count": 13,
   "metadata": {},
   "outputs": [
    {
     "name": "stdout",
     "output_type": "stream",
     "text": [
      "[[2 3 4 3 5]\n",
      " [3 4 5 5 6]]\n",
      "[2 3 4 3]\n"
     ]
    }
   ],
   "source": [
    "arr = np.array([[2,3,4,3,5],\n",
    "                [3,4,5,5,6]])\n",
    "print(arr)\n",
    "print(arr[0, 0:4])"
   ]
  },
  {
   "cell_type": "code",
   "execution_count": 15,
   "metadata": {},
   "outputs": [
    {
     "name": "stdout",
     "output_type": "stream",
     "text": [
      "[[1 3 5 3 6]\n",
      " [4 3 4 5 3]]\n",
      "[3 3]\n"
     ]
    }
   ],
   "source": [
    "# From both element return index 2:\n",
    "arr = np.array([[1,3,5,3,6],\n",
    "                [4,3,4,5,3]])\n",
    "print(arr)\n",
    "print(arr[0:2,1])"
   ]
  },
  {
   "cell_type": "code",
   "execution_count": 19,
   "metadata": {},
   "outputs": [
    {
     "name": "stdout",
     "output_type": "stream",
     "text": [
      "[[1 2 3 4 5 6]\n",
      " [9 7 7 6 5 4]]\n",
      "[[2 3 4]\n",
      " [7 7 6]]\n"
     ]
    }
   ],
   "source": [
    "# From both element slice index 1 to index 4(not include) this will return 2D array\n",
    "arr = np.array([[1,2,3,4,5,6],[9,7,7,6,5,4]])\n",
    "print(arr)\n",
    "print(arr[0:2,1:4])"
   ]
  },
  {
   "cell_type": "markdown",
   "metadata": {},
   "source": [
    "# Data type \n",
    "*Cheaking the data type of array*"
   ]
  },
  {
   "cell_type": "code",
   "execution_count": 22,
   "metadata": {},
   "outputs": [
    {
     "name": "stdout",
     "output_type": "stream",
     "text": [
      "<class 'numpy.ndarray'>\n",
      "<U5\n",
      "int32\n"
     ]
    }
   ],
   "source": [
    "arr = np.array([1,2,3,4,5])\n",
    "arr2 = np.array(['name','ram','shyam'])\n",
    "\n",
    "print(type(arr))\n",
    "print(arr2.dtype)\n",
    "print(arr.dtype)"
   ]
  },
  {
   "cell_type": "markdown",
   "metadata": {},
   "source": [
    "*Creating array with define data type* "
   ]
  },
  {
   "cell_type": "code",
   "execution_count": 24,
   "metadata": {},
   "outputs": [
    {
     "name": "stdout",
     "output_type": "stream",
     "text": [
      "[b'34' b'3' b'3' b'2' b'4' b'5']\n",
      "|S2\n"
     ]
    }
   ],
   "source": [
    "arr = np.array([34,3,3,2,4,5],dtype='S')\n",
    "print(arr)\n",
    "print(arr.dtype)    \n",
    "# For i,u ,f,s and U we can define size as well "
   ]
  },
  {
   "cell_type": "markdown",
   "metadata": {},
   "source": [
    "*create an array with datatype 4 bytes Integer*"
   ]
  },
  {
   "cell_type": "code",
   "execution_count": 27,
   "metadata": {},
   "outputs": [
    {
     "name": "stdout",
     "output_type": "stream",
     "text": [
      "int32\n"
     ]
    }
   ],
   "source": [
    "arr = np.array([2,3,53,33,4],dtype='i4')\n",
    "print(arr.dtype)"
   ]
  },
  {
   "cell_type": "markdown",
   "metadata": {},
   "source": [
    "# what a value can not be converted ?\n",
    "* If a type given in which element can't be casting then Numpy will raise a valueError\n",
    "Exp - A non Integer String like 'a' can't be converted to integer (will raise an Error):\n"
   ]
  },
  {
   "cell_type": "code",
   "execution_count": 29,
   "metadata": {},
   "outputs": [
    {
     "ename": "ValueError",
     "evalue": "invalid literal for int() with base 10: 'a'",
     "output_type": "error",
     "traceback": [
      "\u001b[1;31m---------------------------------------------------------------------------\u001b[0m",
      "\u001b[1;31mValueError\u001b[0m                                Traceback (most recent call last)",
      "\u001b[1;32mc:\\Users\\kk919\\Desktop\\Python Library\\numpy\\numpy0.ipynb Cell 27\u001b[0m line \u001b[0;36m1\n\u001b[1;32m----> <a href='vscode-notebook-cell:/c%3A/Users/kk919/Desktop/Python%20Library/numpy/numpy0.ipynb#X36sZmlsZQ%3D%3D?line=0'>1</a>\u001b[0m arr \u001b[39m=\u001b[39m np\u001b[39m.\u001b[39;49marray([\u001b[39m2\u001b[39;49m,\u001b[39m2\u001b[39;49m,\u001b[39m'\u001b[39;49m\u001b[39ma\u001b[39;49m\u001b[39m'\u001b[39;49m,\u001b[39m5\u001b[39;49m,\u001b[39m3\u001b[39;49m],dtype\u001b[39m=\u001b[39;49m\u001b[39m'\u001b[39;49m\u001b[39mi\u001b[39;49m\u001b[39m'\u001b[39;49m)\n\u001b[0;32m      <a href='vscode-notebook-cell:/c%3A/Users/kk919/Desktop/Python%20Library/numpy/numpy0.ipynb#X36sZmlsZQ%3D%3D?line=1'>2</a>\u001b[0m \u001b[39mprint\u001b[39m(arr)\n",
      "\u001b[1;31mValueError\u001b[0m: invalid literal for int() with base 10: 'a'"
     ]
    }
   ],
   "source": [
    "arr = np.array([2,2,'a',5,3],dtype='i')  # can't be change\n",
    "print(arr)"
   ]
  },
  {
   "cell_type": "markdown",
   "metadata": {},
   "source": [
    "# Convert datatype in Exiting array \n",
    "* The best way to change the data type of an existing array, is to make a copy of the array with the astype() method.\n",
    "\n",
    "* The astype() function creates a copy of the array, and allows you to specify the data type as a parameter.\n",
    "\n",
    "* The data type can be specified using a string, like 'f' for float, 'i' for integer etc. or you can use the data type directly like float for float and int for integer."
   ]
  },
  {
   "cell_type": "code",
   "execution_count": 32,
   "metadata": {},
   "outputs": [
    {
     "name": "stdout",
     "output_type": "stream",
     "text": [
      "[1 3 4]\n",
      "float64\n",
      "int32\n"
     ]
    }
   ],
   "source": [
    "# Change the datatype from float to integer by using 'i' as a parameter  value:\n",
    "# Astype\n",
    "arr = np.array([1.1,3.2,4.3])\n",
    "newarr = arr.astype('i')\n",
    "print(newarr)\n",
    "print(arr.dtype)\n",
    "print(newarr.dtype)"
   ]
  },
  {
   "cell_type": "code",
   "execution_count": 33,
   "metadata": {},
   "outputs": [
    {
     "name": "stdout",
     "output_type": "stream",
     "text": [
      "int32\n"
     ]
    }
   ],
   "source": [
    "# Change the data from float to integer by using int parameter\n",
    "newarr = arr.astype('int')\n",
    "print(newarr.dtype)\n",
    "# Similarly we can change float/int/char into bool or other datatype"
   ]
  },
  {
   "cell_type": "markdown",
   "metadata": {},
   "source": [
    "# Numpy array Copy and View\n",
    "* Copy array copy the data of orignal array \n",
    "* if change in orignal will not affect copy or change copy data will not affect in orignal data\n",
    "* View is use for showing the data from orignal data"
   ]
  },
  {
   "cell_type": "markdown",
   "metadata": {},
   "source": [
    "# Copy"
   ]
  },
  {
   "cell_type": "code",
   "execution_count": 39,
   "metadata": {},
   "outputs": [
    {
     "name": "stdout",
     "output_type": "stream",
     "text": [
      "[3 4 5 2 5 6]\n",
      "[43  4  5  2  5  6]\n"
     ]
    }
   ],
   "source": [
    "arr = np.array([3,4,5,2,5,6])\n",
    "x  = arr.copy()\n",
    "arr[0] = 43\n",
    "print(x)\n",
    "print(arr)"
   ]
  },
  {
   "cell_type": "markdown",
   "metadata": {},
   "source": [
    "# View :"
   ]
  },
  {
   "cell_type": "code",
   "execution_count": 41,
   "metadata": {},
   "outputs": [
    {
     "name": "stdout",
     "output_type": "stream",
     "text": [
      "[34  4  6  4  3]\n",
      "[34  4  6  4  3]\n"
     ]
    }
   ],
   "source": [
    "# Make a view,change the orignal array,and display both array\n",
    "arr = np.array([3,4,6,4,3])\n",
    "x = arr.view()\n",
    "arr[0] = 34\n",
    "print(x)\n",
    "print(arr)   # The view should be affected by the change made to the orignal array\n"
   ]
  },
  {
   "cell_type": "markdown",
   "metadata": {},
   "source": [
    "*Cheak if array owns its data*"
   ]
  },
  {
   "cell_type": "code",
   "execution_count": 45,
   "metadata": {},
   "outputs": [
    {
     "name": "stdout",
     "output_type": "stream",
     "text": [
      "[2 4 2 4 2]\n",
      "None\n"
     ]
    }
   ],
   "source": [
    "# Print the value of the base attribute to cheak if an array owns its data or not\n",
    "arr = np.array([2,4,2,4,2])\n",
    "y = arr.copy()\n",
    "x = arr.view()\n",
    "print(x.base)\n",
    "print(y.base)\n"
   ]
  },
  {
   "cell_type": "markdown",
   "metadata": {},
   "source": [
    "*Numpy array shape*"
   ]
  },
  {
   "cell_type": "code",
   "execution_count": 48,
   "metadata": {},
   "outputs": [
    {
     "name": "stdout",
     "output_type": "stream",
     "text": [
      "(2, 5)\n"
     ]
    }
   ],
   "source": [
    "# Cheak the shape of array with the shape attribute\n",
    "arr = np.array([[4,3,3,5,3],\n",
    "                [4,3,4,3,2]])\n",
    "print(arr.shape)"
   ]
  },
  {
   "cell_type": "code",
   "execution_count": 52,
   "metadata": {},
   "outputs": [
    {
     "name": "stdout",
     "output_type": "stream",
     "text": [
      "[[[[[1 2 3 4]]]]]\n",
      "shape of array: (1, 1, 1, 1, 4)\n"
     ]
    }
   ],
   "source": [
    "# Create an array of 5 dimention using ndim using a vector with value 1,2,3,4\n",
    "# and verify the last dimention value 4\n",
    "arr =np.array([1,2,3,4],ndmin=5)\n",
    "print(arr)  \n",
    "print('shape of array:',arr.shape)    "
   ]
  },
  {
   "cell_type": "markdown",
   "metadata": {},
   "source": [
    "# Numpy array Reshaping \n",
    "* reshape mean change the shape of array\n",
    "* the shape of array  is the number of element in each dimention.\n",
    "* by reshaping we can add or remove dimensions or change number of element in each dimention "
   ]
  },
  {
   "cell_type": "code",
   "execution_count": 57,
   "metadata": {},
   "outputs": [
    {
     "name": "stdout",
     "output_type": "stream",
     "text": [
      "[[ 3  4  5]\n",
      " [ 4  3  5]\n",
      " [ 6  7  6]\n",
      " [10 11 12]]\n"
     ]
    }
   ],
   "source": [
    "# Reshape from 1D to 2D \n",
    "arr = np.array([3,4,5,4,3,5,6,7,6,10,11,12])\n",
    "new = arr.reshape(4,3)\n",
    "print(new)"
   ]
  },
  {
   "cell_type": "code",
   "execution_count": 69,
   "metadata": {},
   "outputs": [
    {
     "name": "stdout",
     "output_type": "stream",
     "text": [
      "[[[ 1  2]\n",
      "  [ 3  4]\n",
      "  [ 5  6]]\n",
      "\n",
      " [[ 6  7]\n",
      "  [ 8  9]\n",
      "  [10 11]]]\n"
     ]
    }
   ],
   "source": [
    "# Reshape from 1D to 3D array\n",
    "arr = np.array([1,2,3,4,5,6,6,7,8,9,10,11])\n",
    "new = arr.reshape(2,3,2)\n",
    "print(new)"
   ]
  },
  {
   "cell_type": "code",
   "execution_count": 67,
   "metadata": {},
   "outputs": [
    {
     "name": "stdout",
     "output_type": "stream",
     "text": [
      "[[[2 3 4]\n",
      "  [3 4 5]]\n",
      "\n",
      " [[3 3 3]\n",
      "  [2 3 4]]]\n"
     ]
    }
   ],
   "source": [
    "arr = np.array([[[2,3,4],[3,4,5]],[[3,3,3],[2,3,4]]])\n",
    "print(arr)   # 3D Array"
   ]
  },
  {
   "cell_type": "markdown",
   "metadata": {},
   "source": [
    "*return copy or view*"
   ]
  },
  {
   "cell_type": "code",
   "execution_count": 70,
   "metadata": {},
   "outputs": [
    {
     "name": "stdout",
     "output_type": "stream",
     "text": [
      "[ 1  2  3  4  5  6  6  7  8  9 10 11]\n"
     ]
    }
   ],
   "source": [
    "# cheak the return a copy or a view\n",
    "print(arr.reshape(2,3,2).base)"
   ]
  },
  {
   "cell_type": "markdown",
   "metadata": {},
   "source": [
    "*Unknown Dimention*\n",
    "* You are allowed to have one \"unknown\" dimension.\n",
    "* Meaning that you do not have to specify an exact number for one of the dimensions in the reshape method.\n",
    "* Pass -1 as the value, and NumPy will calculate this number for you."
   ]
  },
  {
   "cell_type": "code",
   "execution_count": 74,
   "metadata": {},
   "outputs": [
    {
     "name": "stdout",
     "output_type": "stream",
     "text": [
      "[[[1 2]\n",
      "  [3 4]]\n",
      "\n",
      " [[5 6]\n",
      "  [7 8]]]\n"
     ]
    }
   ],
   "source": [
    "arr = np.array([1,2,3,4,5,6,7,8])\n",
    "newarr = arr.reshape(2,2,-1)\n",
    "print(newarr)\n"
   ]
  },
  {
   "cell_type": "markdown",
   "metadata": {},
   "source": [
    "*Flattening the array*\n",
    "* Flattening array meaning convert a multidimentional array into 1D array\n",
    "* We can use reshape(-1)to do this"
   ]
  },
  {
   "cell_type": "code",
   "execution_count": 75,
   "metadata": {},
   "outputs": [
    {
     "name": "stdout",
     "output_type": "stream",
     "text": [
      "[1 2 4 3 4 5]\n"
     ]
    }
   ],
   "source": [
    "# Convert the array into 1D array\n",
    "arr = np.array([[1,2,4],[3,4,5]])\n",
    "new = arr.reshape(-1)\n",
    "print(new)\n",
    "\n",
    "# there have a lot of changing the shape of array in numpy flatten,ravel and also\n",
    "# rearranging  the element rot90,flip,fliplr,flipud etc ,these fall under intermediate\n",
    "# to advance section of numpy"
   ]
  },
  {
   "cell_type": "markdown",
   "metadata": {},
   "source": [
    "# Itrating Array\n",
    "* Itrating meaning going through element one by one\n",
    "* As we deal with multi dimentional array in numpy ,we can do this using besic for loop in python\n",
    "* If we iterate on a 1-D array it will go through each element one by one.\n",
    "\n",
    "\n"
   ]
  },
  {
   "cell_type": "code",
   "execution_count": 77,
   "metadata": {},
   "outputs": [
    {
     "name": "stdout",
     "output_type": "stream",
     "text": [
      "2\n",
      "4\n",
      "2\n",
      "1\n",
      "5\n",
      "3\n"
     ]
    }
   ],
   "source": [
    "arr = np.array([2,4,2,1,5,3])\n",
    "for i in arr:\n",
    "    print(i)"
   ]
  },
  {
   "cell_type": "code",
   "execution_count": 79,
   "metadata": {},
   "outputs": [
    {
     "name": "stdout",
     "output_type": "stream",
     "text": [
      "[4 3 2]\n",
      "[3 4 5]\n"
     ]
    }
   ],
   "source": [
    "# 2D Array\n",
    "arr = np.array([[4,3,2],[3,4,5]])\n",
    "for x in arr:\n",
    "    print(x)"
   ]
  },
  {
   "cell_type": "code",
   "execution_count": 81,
   "metadata": {},
   "outputs": [
    {
     "name": "stdout",
     "output_type": "stream",
     "text": [
      "2\n",
      "3\n",
      "2\n",
      "4\n",
      "3\n",
      "2\n"
     ]
    }
   ],
   "source": [
    "# Iterate  on each scalar element of the 2D array\n",
    "arr = np.array([[2,3,2],[4,3,2]])\n",
    "for x in arr:\n",
    "    for y in x:\n",
    "        print(y)    "
   ]
  },
  {
   "cell_type": "markdown",
   "metadata": {},
   "source": [
    "*Iterating 3-D Array*\n",
    "* In a 3-D array it will go through all the 2-D array"
   ]
  },
  {
   "cell_type": "code",
   "execution_count": 83,
   "metadata": {},
   "outputs": [
    {
     "name": "stdout",
     "output_type": "stream",
     "text": [
      "[[2 3 4]\n",
      " [3 4 5]]\n",
      "[[3 4 3]\n",
      " [3 4 5]]\n"
     ]
    }
   ],
   "source": [
    "arr = np.array([[[2,3,4],[3,4,5]],[[3,4,3],[3,4,5]]])\n",
    "for x in arr:\n",
    "    print(x)"
   ]
  },
  {
   "cell_type": "markdown",
   "metadata": {},
   "source": [
    "*Iterate Down to the Scalars*"
   ]
  },
  {
   "cell_type": "code",
   "execution_count": 86,
   "metadata": {},
   "outputs": [
    {
     "name": "stdout",
     "output_type": "stream",
     "text": [
      "2\n",
      "3\n",
      "4\n",
      "3\n",
      "4\n",
      "5\n",
      "3\n",
      "4\n",
      "3\n",
      "3\n",
      "4\n",
      "5\n"
     ]
    }
   ],
   "source": [
    "for i in arr:\n",
    "    for j in i:\n",
    "        for z in j:\n",
    "            print(z)"
   ]
  },
  {
   "cell_type": "markdown",
   "metadata": {},
   "source": [
    "# iterating array using nditer()\n",
    "* The function nditer() is a helping function that can be used from very basic to very advanced iterations. It solves some basic issues which we face in iteration"
   ]
  },
  {
   "cell_type": "code",
   "execution_count": 89,
   "metadata": {},
   "outputs": [
    {
     "name": "stdout",
     "output_type": "stream",
     "text": [
      "1\n",
      "2\n",
      "3\n",
      "5\n",
      "4\n",
      "3\n",
      "3\n",
      "4\n",
      "4\n",
      "6\n",
      "6\n",
      "5\n"
     ]
    }
   ],
   "source": [
    "arr =  np.array([[[1,2,3],[5,4,3]],[[3,4,4],[6,6,5]]])\n",
    "\n",
    "for i in np.nditer(arr):\n",
    "    print(i)"
   ]
  },
  {
   "cell_type": "markdown",
   "metadata": {},
   "source": [
    "# Itrating array with diffent datatype\n",
    "* op_dtypes \n",
    "* flag = ['buffered']"
   ]
  },
  {
   "cell_type": "code",
   "execution_count": 90,
   "metadata": {},
   "outputs": [
    {
     "name": "stdout",
     "output_type": "stream",
     "text": [
      "b'3'\n",
      "b'4'\n",
      "b'5'\n",
      "b'4'\n",
      "b'6'\n"
     ]
    }
   ],
   "source": [
    "arr = np.array([3,4,5,4,6])\n",
    "for x in np.nditer(arr,flags=['buffered'],op_dtypes='S'):\n",
    "    print(x)"
   ]
  },
  {
   "cell_type": "code",
   "execution_count": 107,
   "metadata": {},
   "outputs": [
    {
     "name": "stdout",
     "output_type": "stream",
     "text": [
      "2\n",
      "3\n",
      "6\n",
      "5\n"
     ]
    }
   ],
   "source": [
    "arr = np.array([[2,3,4],\n",
    "                [6,5,6]])\n",
    "for i in np.nditer(arr[:,:2]):\n",
    "    print(i)"
   ]
  },
  {
   "cell_type": "markdown",
   "metadata": {},
   "source": [
    "*Inumerated Iteration using ndenumerate()*"
   ]
  },
  {
   "cell_type": "code",
   "execution_count": 109,
   "metadata": {},
   "outputs": [
    {
     "name": "stdout",
     "output_type": "stream",
     "text": [
      "(0,) 4\n",
      "(1,) 4\n",
      "(2,) 4\n"
     ]
    }
   ],
   "source": [
    "arr = np.array([4,4,4])\n",
    "for idx,x in np.ndenumerate(arr):\n",
    "    print(idx,x)"
   ]
  },
  {
   "cell_type": "markdown",
   "metadata": {},
   "source": [
    "*Enumerate on following 2D array's elements:*"
   ]
  },
  {
   "cell_type": "code",
   "execution_count": 111,
   "metadata": {},
   "outputs": [
    {
     "name": "stdout",
     "output_type": "stream",
     "text": [
      "(0, 0) 3\n",
      "(0, 1) 4\n",
      "(0, 2) 6\n",
      "(1, 0) 4\n",
      "(1, 1) 3\n",
      "(1, 2) 3\n"
     ]
    }
   ],
   "source": [
    "arr = np.array([[3,4,6],\n",
    "                [4,3,3]])\n",
    "for idx,x in np.ndenumerate(arr):\n",
    "    print(idx,x)"
   ]
  },
  {
   "cell_type": "code",
   "execution_count": 113,
   "metadata": {},
   "outputs": [
    {
     "name": "stdout",
     "output_type": "stream",
     "text": [
      "(0, 0, 0) 3\n",
      "(0, 0, 1) 3\n",
      "(0, 0, 2) 3\n",
      "(0, 1, 0) 5\n",
      "(0, 1, 1) 5\n",
      "(0, 1, 2) 5\n",
      "(1, 0, 0) 2\n",
      "(1, 0, 1) 3\n",
      "(1, 0, 2) 5\n",
      "(1, 1, 0) 6\n",
      "(1, 1, 1) 6\n",
      "(1, 1, 2) 5\n"
     ]
    }
   ],
   "source": [
    "# 3D Array\n",
    "arr = np.array([[[3,3,3],\n",
    "                 [5,5,5]],\n",
    "                 [[2,3,5],\n",
    "                  [6,6,5]]])\n",
    "for idx, x in np.ndenumerate(arr):\n",
    "    print(idx,x)"
   ]
  },
  {
   "cell_type": "markdown",
   "metadata": {},
   "source": [
    "# Joining Numpy array\n",
    "\n",
    "* joining means putting contents of two or more array in single array\n",
    "* In sql we join table base on the key ,whereas in numpy we join array by axis\n",
    "* We pass a sequence of arrays that we want to join to the concatenate() function, along with the axis. If axis is not explicitly passed, it is taken as 0. "
   ]
  },
  {
   "cell_type": "code",
   "execution_count": 116,
   "metadata": {},
   "outputs": [
    {
     "name": "stdout",
     "output_type": "stream",
     "text": [
      "[3 4 2 4 5 5 3 4 5 5]\n"
     ]
    }
   ],
   "source": [
    "arr1 = np.array([3,4,2,4,5])\n",
    "arr2 = np.array([5,3,4,5,5])    \n",
    "sum = np.concatenate((arr1,arr2))\n",
    "print(sum)"
   ]
  },
  {
   "cell_type": "markdown",
   "metadata": {},
   "source": [
    "*Join 2D array along rows (axis=1)*"
   ]
  },
  {
   "cell_type": "code",
   "execution_count": 119,
   "metadata": {},
   "outputs": [
    {
     "name": "stdout",
     "output_type": "stream",
     "text": [
      "[[3 3 4]\n",
      " [5 3 2]\n",
      " [6 7 8]\n",
      " [9 7 6]]\n"
     ]
    }
   ],
   "source": [
    "arr1 = np.array([[3,3,4],\n",
    "                 [5,3,2]])\n",
    "arr2 = np.array([[6,7,8],\n",
    "                 [9,7,6]])\n",
    "con = np.concatenate((arr1,arr2),axis=0)  # axis = 0 means horizontal \n",
    "print(con)                                # axis = 1 mean  vertical"
   ]
  },
  {
   "cell_type": "markdown",
   "metadata": {},
   "source": [
    "*Joining array using stack fucntion*\n"
   ]
  },
  {
   "cell_type": "code",
   "execution_count": 122,
   "metadata": {},
   "outputs": [
    {
     "name": "stdout",
     "output_type": "stream",
     "text": [
      "[[[3 3 4]\n",
      "  [6 7 8]]\n",
      "\n",
      " [[5 3 2]\n",
      "  [9 7 6]]]\n"
     ]
    }
   ],
   "source": [
    "sum = np.stack((arr1,arr2),axis=1)\n",
    "print(sum)"
   ]
  },
  {
   "cell_type": "code",
   "execution_count": null,
   "metadata": {},
   "outputs": [],
   "source": []
  }
 ],
 "metadata": {
  "kernelspec": {
   "display_name": "Python 3",
   "language": "python",
   "name": "python3"
  },
  "language_info": {
   "codemirror_mode": {
    "name": "ipython",
    "version": 3
   },
   "file_extension": ".py",
   "mimetype": "text/x-python",
   "name": "python",
   "nbconvert_exporter": "python",
   "pygments_lexer": "ipython3",
   "version": "3.12.0"
  }
 },
 "nbformat": 4,
 "nbformat_minor": 2
}
