{
 "cells": [
  {
   "cell_type": "markdown",
   "metadata": {},
   "source": [
    "# Random Number in Numpy\n",
    "*What Is Random Number*\n",
    "* Random number does NOT mean a different number every time. Random means something that can not be predicted logically."
   ]
  },
  {
   "cell_type": "code",
   "execution_count": 2,
   "metadata": {},
   "outputs": [
    {
     "data": {
      "text/plain": [
       "41"
      ]
     },
     "execution_count": 2,
     "metadata": {},
     "output_type": "execute_result"
    }
   ],
   "source": [
    "# NumPy offers the random module to work with random numbers\n",
    "# Generate Random Number from 0 to 100\n",
    "from numpy import random\n",
    "x = random.randint(100)\n",
    "x \n"
   ]
  },
  {
   "cell_type": "code",
   "execution_count": 3,
   "metadata": {},
   "outputs": [
    {
     "data": {
      "text/plain": [
       "0.05362431302368431"
      ]
     },
     "execution_count": 3,
     "metadata": {},
     "output_type": "execute_result"
    }
   ],
   "source": [
    "# Generate Rondom Float\n",
    "# The random module's rand() method returns a random float between 0 and 1\n",
    "flo = random.rand()\n",
    "flo\n"
   ]
  },
  {
   "cell_type": "markdown",
   "metadata": {},
   "source": [
    "Generate Random Array"
   ]
  },
  {
   "cell_type": "code",
   "execution_count": 13,
   "metadata": {},
   "outputs": [
    {
     "data": {
      "text/plain": [
       "array([90, 82, 91, 78, 34, 18, 75, 84,  1, 58])"
      ]
     },
     "execution_count": 13,
     "metadata": {},
     "output_type": "execute_result"
    }
   ],
   "source": [
    "# Generate random 1-D Array containing 5 random integer from 0 to 100\n",
    "arr = random.randint(100,size=(10))  \n",
    "arr"
   ]
  },
  {
   "cell_type": "code",
   "execution_count": 5,
   "metadata": {},
   "outputs": [
    {
     "data": {
      "text/plain": [
       "array([[99, 59,  0],\n",
       "       [52, 29, 85],\n",
       "       [68, 69, 48]])"
      ]
     },
     "execution_count": 5,
     "metadata": {},
     "output_type": "execute_result"
    }
   ],
   "source": [
    "# Generate 2-D array with 3 rows \n",
    "arr2 = random.randint(100,size=(3,3))\n",
    "arr2"
   ]
  },
  {
   "cell_type": "code",
   "execution_count": 6,
   "metadata": {},
   "outputs": [
    {
     "data": {
      "text/plain": [
       "array([[[63, 48, 45],\n",
       "        [75, 94, 57],\n",
       "        [56, 79, 84]],\n",
       "\n",
       "       [[31, 85,  1],\n",
       "        [67, 71, 45],\n",
       "        [53, 38,  2]],\n",
       "\n",
       "       [[11, 89, 84],\n",
       "        [68, 76, 16],\n",
       "        [38, 93, 68]]])"
      ]
     },
     "execution_count": 6,
     "metadata": {},
     "output_type": "execute_result"
    }
   ],
   "source": [
    "arr2 = random.randint(100,size=(3,3,3))\n",
    "arr2"
   ]
  },
  {
   "cell_type": "markdown",
   "metadata": {},
   "source": [
    "The rand() method also allows you to specify the shape of the array."
   ]
  },
  {
   "cell_type": "code",
   "execution_count": 7,
   "metadata": {},
   "outputs": [
    {
     "data": {
      "text/plain": [
       "array([0.68254191, 0.64781152, 0.64405572, 0.93718382, 0.02442751])"
      ]
     },
     "execution_count": 7,
     "metadata": {},
     "output_type": "execute_result"
    }
   ],
   "source": [
    "ran = random.rand(5)\n",
    "ran"
   ]
  },
  {
   "cell_type": "code",
   "execution_count": 8,
   "metadata": {},
   "outputs": [
    {
     "data": {
      "text/plain": [
       "array([[0.25789776, 0.41157447, 0.55205692],\n",
       "       [0.87582786, 0.04160512, 0.84165   ],\n",
       "       [0.10251457, 0.35559041, 0.11400623]])"
      ]
     },
     "execution_count": 8,
     "metadata": {},
     "output_type": "execute_result"
    }
   ],
   "source": [
    "# Generate a 2-D array with 3 rows in float\n",
    "arr = random.rand(3,3)\n",
    "arr"
   ]
  },
  {
   "cell_type": "markdown",
   "metadata": {},
   "source": [
    "# Generate Random Number From Array\n",
    "* The choice() method allows you to generate a random value based on an array of values.\n",
    "\n",
    "* The choice() method takes an array as a parameter and randomly returns one of the values."
   ]
  },
  {
   "cell_type": "code",
   "execution_count": 9,
   "metadata": {},
   "outputs": [
    {
     "data": {
      "text/plain": [
       "4"
      ]
     },
     "execution_count": 9,
     "metadata": {},
     "output_type": "execute_result"
    }
   ],
   "source": [
    "cho = random.choice([1,3,4,5,6])\n",
    "cho"
   ]
  },
  {
   "cell_type": "code",
   "execution_count": 10,
   "metadata": {},
   "outputs": [
    {
     "data": {
      "text/plain": [
       "array([[9, 5, 7, 9, 3],\n",
       "       [9, 5, 5, 7, 7],\n",
       "       [9, 5, 7, 7, 5]])"
      ]
     },
     "execution_count": 10,
     "metadata": {},
     "output_type": "execute_result"
    }
   ],
   "source": [
    "# Generate a 2-D array that consists of the values in the array parameter (3, 5, 7, and 9)\n",
    "cho = random.choice([3,5,7,9],size=(3,5))\n",
    "cho\n"
   ]
  },
  {
   "cell_type": "markdown",
   "metadata": {},
   "source": [
    "# Random permutations\n",
    "*random permutation of element*\n",
    "* A permutation refer to an arrangement of element e.g. [3,2,1] is a permutation of [1,2,3] and vice versa .\n",
    "* The numpy Random mudule provide two methods for this : suffle() and permutation().\n",
    "# Suffling array\n",
    "* Shuffle means changing arrangement of element in-place .i.e in the array itself "
   ]
  },
  {
   "cell_type": "code",
   "execution_count": 11,
   "metadata": {},
   "outputs": [
    {
     "name": "stdout",
     "output_type": "stream",
     "text": [
      "[3 4 3 5]\n"
     ]
    }
   ],
   "source": [
    "from numpy import random\n",
    "import numpy as np\n",
    "arr = np.array([3,4,5,3])\n",
    "random.shuffle(arr)\n",
    "print(arr)  # The suffle() methods makes change to the orignal array"
   ]
  },
  {
   "cell_type": "markdown",
   "metadata": {},
   "source": [
    "*Generating Permutation of the array*\n",
    "|"
   ]
  },
  {
   "cell_type": "code",
   "execution_count": 12,
   "metadata": {},
   "outputs": [
    {
     "name": "stdout",
     "output_type": "stream",
     "text": [
      "[4 3 5 7 4 5]\n"
     ]
    }
   ],
   "source": [
    "arr = np.array([4,5,7,5,4,3])\n",
    "print(random.permutation(arr)) # It set the data in ASC order"
   ]
  },
  {
   "cell_type": "code",
   "execution_count": null,
   "metadata": {},
   "outputs": [],
   "source": []
  }
 ],
 "metadata": {
  "kernelspec": {
   "display_name": "Python 3",
   "language": "python",
   "name": "python3"
  },
  "language_info": {
   "codemirror_mode": {
    "name": "ipython",
    "version": 3
   },
   "file_extension": ".py",
   "mimetype": "text/x-python",
   "name": "python",
   "nbconvert_exporter": "python",
   "pygments_lexer": "ipython3",
   "version": "3.12.0"
  }
 },
 "nbformat": 4,
 "nbformat_minor": 2
}
