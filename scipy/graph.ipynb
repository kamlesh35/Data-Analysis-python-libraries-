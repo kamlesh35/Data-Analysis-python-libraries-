{
 "cells": [
  {
   "cell_type": "markdown",
   "metadata": {},
   "source": [
    "# Scipy Graph \n",
    "*working with graph*\n",
    "* Graph are an essential data structure\n",
    "* Scipy Provide us with the module *scipy.sparse.csgraph* for working with such data structure\n",
    "# Adjacency matrix \n",
    "* Adjacency matrix is a nxn matrix where n is the number of element in the garph\n",
    "and the value represented the connection b/w the element\n",
    "# Connected Components\n",
    "* Find all of the connected components with the *connected.components()* method"
   ]
  },
  {
   "cell_type": "code",
   "execution_count": 1,
   "metadata": {},
   "outputs": [
    {
     "name": "stdout",
     "output_type": "stream",
     "text": [
      "(1, array([0, 0, 0]))\n"
     ]
    }
   ],
   "source": [
    "import numpy as np\n",
    "from scipy.sparse.csgraph import connected_components\n",
    "from scipy.sparse import csr_matrix\n",
    "arr = np.array([[1,2,3],[5,6,7],[4,5,3]])\n",
    "newarr = csr_matrix(arr)\n",
    "print(connected_components(newarr))"
   ]
  },
  {
   "cell_type": "markdown",
   "metadata": {},
   "source": [
    "# Dijksrta \n",
    "* use the dijkstra method to find the sortest path in the graph from one element to another\n",
    "1  *return-predecessors:* Boolean (true the return whole path of traversal otherwise false)\n",
    "\n",
    "2 - *Indices* : index of the element to return all the paths from that element only\n",
    "\n",
    "2 - *limit* : max weight of path"
   ]
  },
  {
   "cell_type": "code",
   "execution_count": 2,
   "metadata": {},
   "outputs": [
    {
     "name": "stdout",
     "output_type": "stream",
     "text": [
      "(array([0., 1., 2.]), array([-9999,     0,     0]))\n"
     ]
    }
   ],
   "source": [
    "# Find the sortest path from element 1 to 2\n",
    "import numpy as np\n",
    "from scipy.sparse.csgraph import dijkstra\n",
    "from scipy.sparse import csr_matrix\n",
    "arr = np.array([[0,1,2],\n",
    "                [1,0,0],\n",
    "                [2,0,0]])\n",
    "newarr = csr_matrix(arr)\n",
    "print(dijkstra(newarr,return_predecessors=True,indices=0))"
   ]
  },
  {
   "cell_type": "markdown",
   "metadata": {},
   "source": [
    "# Floyd Warshall \n",
    "* Use the floyd_warshall() method to find the sortest path b/w all pair elements\n"
   ]
  },
  {
   "cell_type": "code",
   "execution_count": 3,
   "metadata": {},
   "outputs": [
    {
     "name": "stdout",
     "output_type": "stream",
     "text": [
      "(array([[0., 1., 2.],\n",
      "       [1., 0., 3.],\n",
      "       [2., 3., 0.]]), array([[-9999,     0,     0],\n",
      "       [    1, -9999,     0],\n",
      "       [    2,     0, -9999]]))\n"
     ]
    }
   ],
   "source": [
    "# Find the sortest path b/w all pair of the element\n",
    "import numpy as np\n",
    "from scipy.sparse.csgraph import floyd_warshall\n",
    "from scipy.sparse import csr_matrix\n",
    "arr = np.array([[0,1,2],[1,0,0],[2,0,0]])\n",
    "newarr = csr_matrix(arr)\n",
    "print(floyd_warshall(newarr,return_predecessors=True))"
   ]
  },
  {
   "cell_type": "markdown",
   "metadata": {},
   "source": [
    "# Bellman Ford\n",
    "* The bellman_ford() method can also find the sortest path b/w all pair of the element,but this method can be handle negative weight as well."
   ]
  },
  {
   "cell_type": "code",
   "execution_count": 5,
   "metadata": {},
   "outputs": [
    {
     "name": "stdout",
     "output_type": "stream",
     "text": [
      "(array([[ 0., -1., inf],\n",
      "       [ 1.,  0., inf],\n",
      "       [ 2.,  1.,  0.]]), array([[-9999,     0, -9999],\n",
      "       [    1, -9999, -9999],\n",
      "       [    2,     0, -9999]]))\n"
     ]
    }
   ],
   "source": [
    "# Find sortest path from element 1 to 2 with given garph with a negative weight\n",
    "import numpy as np\n",
    "from scipy.sparse.csgraph import bellman_ford\n",
    "from scipy.sparse import csr_matrix\n",
    "arr = np.array([[0,-1,0],     # Negative weight is nesessary    \n",
    "                [1,0,0],\n",
    "                [2,0,0]])\n",
    "newarr = csr_matrix(arr)\n",
    "print(bellman_ford(newarr,return_predecessors=True))"
   ]
  },
  {
   "cell_type": "markdown",
   "metadata": {},
   "source": [
    "# depth First order\n",
    "* The *depth_first_order* method return a depth first traversal from a node\n",
    "* This funtion is taking following steps\n",
    "\n",
    "1 - the graph\n",
    "2 - the starting element to traverse graph from"
   ]
  },
  {
   "cell_type": "code",
   "execution_count": 6,
   "metadata": {},
   "outputs": [
    {
     "name": "stdout",
     "output_type": "stream",
     "text": [
      "(array([1, 0, 3, 2]), array([    1, -9999,     1,     0]))\n"
     ]
    }
   ],
   "source": [
    "# Traverse the graph depth first for given adjacency matrix\n",
    "import numpy as np\n",
    "from scipy.sparse.csgraph import depth_first_order\n",
    "from scipy.sparse import csr_matrix\n",
    "arr = np.array([[0,1,0,1],\n",
    "                [1,1,1,1],\n",
    "                [2,1,1,0],\n",
    "                [0,1,0,1]])\n",
    "newarr = csr_matrix(arr)\n",
    "print(depth_first_order(newarr,1))"
   ]
  },
  {
   "cell_type": "markdown",
   "metadata": {},
   "source": [
    "# breadth first Order\n",
    "* The breadth_first_order() method returns a breadth first traversal from a node\n",
    "* This function take following argument:\n",
    "\n",
    "1 - Graph\n",
    "\n",
    "2 - The starting element to traverse graph from\n"
   ]
  },
  {
   "cell_type": "code",
   "execution_count": 9,
   "metadata": {},
   "outputs": [
    {
     "name": "stdout",
     "output_type": "stream",
     "text": [
      "(array([3, 1, 0, 2]), array([    1,     3,     1, -9999]))\n"
     ]
    }
   ],
   "source": [
    "import numpy as np\n",
    "from scipy.sparse.csgraph import breadth_first_order\n",
    "from scipy.sparse import csr_matrix\n",
    "arr = np.array([[0,1,0,1],\n",
    "                [1,1,1,1],\n",
    "                [2,1,1,0],\n",
    "                [0,1,0,1]\n",
    "            ])\n",
    "newarr = csr_matrix(arr)\n",
    "print(breadth_first_order(newarr,3))"
   ]
  },
  {
   "cell_type": "code",
   "execution_count": null,
   "metadata": {},
   "outputs": [],
   "source": []
  }
 ],
 "metadata": {
  "kernelspec": {
   "display_name": "Python 3",
   "language": "python",
   "name": "python3"
  },
  "language_info": {
   "codemirror_mode": {
    "name": "ipython",
    "version": 3
   },
   "file_extension": ".py",
   "mimetype": "text/x-python",
   "name": "python",
   "nbconvert_exporter": "python",
   "pygments_lexer": "ipython3",
   "version": "3.12.0"
  }
 },
 "nbformat": 4,
 "nbformat_minor": 2
}
